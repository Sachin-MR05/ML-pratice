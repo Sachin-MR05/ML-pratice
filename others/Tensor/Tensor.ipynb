{
 "cells": [
  {
   "cell_type": "markdown",
   "id": "fe591e1f",
   "metadata": {},
   "source": [
    "# Tensor\n",
    "A tensor is a fundamental data structure in machine learning and deep learning, serving as a generalization of scalars, vectors, and matrices to an arbitrary number of dimensions. It is essentially a multi-dimensional array used to store and manipulate data"
   ]
  },
  {
   "cell_type": "code",
   "execution_count": 21,
   "id": "32c81d9b",
   "metadata": {},
   "outputs": [],
   "source": [
    "# pip install numpy"
   ]
  },
  {
   "cell_type": "code",
   "execution_count": 22,
   "id": "3a7d72b6",
   "metadata": {},
   "outputs": [],
   "source": [
    "import numpy as np"
   ]
  },
  {
   "cell_type": "code",
   "execution_count": null,
   "id": "9d0b26ca",
   "metadata": {},
   "outputs": [
    {
     "data": {
      "text/plain": [
       "0"
      ]
     },
     "execution_count": 23,
     "metadata": {},
     "output_type": "execute_result"
    }
   ],
   "source": [
    "a =np.array(0) # 0D arrat\n",
    "b =np.array([1,2,3]) # 1D Tensor 4D vector\n",
    "c =np.array([[1,2,3],[4,5,6]]) # 2D array \n",
    "dim = np.ndim(a)\n",
    "dim"
   ]
  },
  {
   "cell_type": "markdown",
   "id": "27e36ce6",
   "metadata": {},
   "source": [
    "🔹 Scalar → single element\n",
    "🔹 Vector → collection of scalars\n",
    "🔹 Matrix → collection of vectors\n",
    "🔹 Tensor → collection of matrices"
   ]
  },
  {
   "cell_type": "markdown",
   "id": "cb416132",
   "metadata": {},
   "source": [
    "# Rank, Axes and Shape\n",
    "Rank = no of axis = no of dimensions"
   ]
  },
  {
   "cell_type": "code",
   "execution_count": null,
   "id": "e319ca61",
   "metadata": {},
   "outputs": [],
   "source": []
  }
 ],
 "metadata": {
  "kernelspec": {
   "display_name": ".venv (3.13.9)",
   "language": "python",
   "name": "python3"
  },
  "language_info": {
   "codemirror_mode": {
    "name": "ipython",
    "version": 3
   },
   "file_extension": ".py",
   "mimetype": "text/x-python",
   "name": "python",
   "nbconvert_exporter": "python",
   "pygments_lexer": "ipython3",
   "version": "3.13.9"
  }
 },
 "nbformat": 4,
 "nbformat_minor": 5
}
